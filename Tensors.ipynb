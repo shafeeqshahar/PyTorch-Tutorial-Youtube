{
  "nbformat": 4,
  "nbformat_minor": 0,
  "metadata": {
    "colab": {
      "provenance": [],
      "authorship_tag": "ABX9TyMqld4ZqFI0Px//Pd7iySqF",
      "include_colab_link": true
    },
    "kernelspec": {
      "name": "python3",
      "display_name": "Python 3"
    },
    "language_info": {
      "name": "python"
    }
  },
  "cells": [
    {
      "cell_type": "markdown",
      "metadata": {
        "id": "view-in-github",
        "colab_type": "text"
      },
      "source": [
        "<a href=\"https://colab.research.google.com/github/shafeeqshahar/PyTorch-Tutorial-Youtube/blob/main/Tensors.ipynb\" target=\"_parent\"><img src=\"https://colab.research.google.com/assets/colab-badge.svg\" alt=\"Open In Colab\"/></a>"
      ]
    },
    {
      "cell_type": "markdown",
      "source": [
        "# TENSOR"
      ],
      "metadata": {
        "id": "2DlOhFajZYJP"
      }
    },
    {
      "cell_type": "code",
      "execution_count": 1,
      "metadata": {
        "id": "DS50JKvHWgO1"
      },
      "outputs": [],
      "source": [
        "import torch\n",
        "import numpy as np"
      ]
    },
    {
      "cell_type": "code",
      "source": [
        "my_tensor = torch.randn(2, 3, 4)\n",
        "my_tensor"
      ],
      "metadata": {
        "colab": {
          "base_uri": "https://localhost:8080/"
        },
        "id": "6Slsa7HEZdkZ",
        "outputId": "3beef2db-73cd-4745-d2b3-ac3a29079f12"
      },
      "execution_count": 2,
      "outputs": [
        {
          "output_type": "execute_result",
          "data": {
            "text/plain": [
              "tensor([[[-1.0907,  0.0328, -0.0362,  1.0750],\n",
              "         [-1.2903,  0.3835,  0.9833,  0.8693],\n",
              "         [-0.9528,  0.2755, -1.0348, -1.0075]],\n",
              "\n",
              "        [[ 0.7431, -0.6565,  0.7945,  1.2589],\n",
              "         [ 0.5433, -0.8834, -0.3489,  1.0443],\n",
              "         [-0.3241, -0.7572,  0.8564, -0.2165]]])"
            ]
          },
          "metadata": {},
          "execution_count": 2
        }
      ]
    },
    {
      "cell_type": "code",
      "source": [],
      "metadata": {
        "id": "C3LLE01HZ9Rs"
      },
      "execution_count": null,
      "outputs": []
    }
  ]
}